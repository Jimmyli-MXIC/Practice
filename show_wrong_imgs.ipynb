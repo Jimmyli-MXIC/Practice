{
 "cells": [
  {
   "cell_type": "code",
   "execution_count": null,
   "metadata": {
    "ExecuteTime": {
     "end_time": "2018-09-25T06:19:14.087417Z",
     "start_time": "2018-09-25T06:19:14.076131Z"
    }
   },
   "outputs": [],
   "source": [
    "# %matplotlib notebook\n",
    "from PIL import Image\n",
    "import os\n",
    "import matplotlib.pyplot as plt\n",
    "import math\n",
    "\n",
    "def show_imngs(path_images):\n",
    "    col_n = 12\n",
    "    row_n = math.ceil(len(path_images)/col_n)\n",
    "    fig=plt.figure(figsize=(col_n*2,row_n*2))\n",
    "    for i,path in enumerate(path_images):\n",
    "        np_img = plt.imread(path)  \n",
    "        ax=fig.add_subplot(row_n,col_n,i+1)  \n",
    "        ax.axis('off')\n",
    "        ax.set_title(path_images[i].split('/')[-1].split('.')[0])\n",
    "        ax.imshow(np_img)\n",
    "    plt.show()\n",
    "def load_file_show_imgs(path):\n",
    "    path = '/home/tedev0/gitprojects/dataset/' + path\n",
    "    file = os.listdir(path)\n",
    "    for i in file:\n",
    "        if(i.endswith(\"txt\")):\n",
    "            file.remove(i)\n",
    "    for i in range(len(file)):\n",
    "\n",
    "        images = os.listdir(path + file[i])\n",
    "\n",
    "        path_images=[]\n",
    "        print(\"===============================[ \"+ file[i] +\" ]\")\n",
    "        for n in range(len(images)):\n",
    "            img_path = path + file[i]+'/' + images[n]\n",
    "            path_images.append(img_path)\n",
    "        show_imngs(path_images)"
   ]
  },
  {
   "cell_type": "code",
   "execution_count": null,
   "metadata": {
    "ExecuteTime": {
     "end_time": "2018-09-25T06:19:15.404796Z",
     "start_time": "2018-09-25T06:19:15.398931Z"
    }
   },
   "outputs": [],
   "source": [
    "path = 'img_data_0925_mtcnnpy_160/'"
   ]
  },
  {
   "cell_type": "code",
   "execution_count": null,
   "metadata": {
    "ExecuteTime": {
     "end_time": "2018-09-25T06:34:54.493785Z",
     "start_time": "2018-09-25T06:34:53.288590Z"
    }
   },
   "outputs": [],
   "source": [
    "load_file_show_imgs(path)"
   ]
  },
  {
   "cell_type": "code",
   "execution_count": null,
   "metadata": {
    "ExecuteTime": {
     "end_time": "2018-09-25T06:20:54.860100Z",
     "start_time": "2018-09-25T06:20:54.856104Z"
    }
   },
   "outputs": [],
   "source": [
    "path_0920 = 'img_data_0920_mtcnnpy_160/'"
   ]
  },
  {
   "cell_type": "code",
   "execution_count": null,
   "metadata": {
    "ExecuteTime": {
     "end_time": "2018-09-25T06:21:14.546530Z",
     "start_time": "2018-09-25T06:21:13.010168Z"
    }
   },
   "outputs": [],
   "source": [
    "load_file_show_imgs(path_0920)"
   ]
  },
  {
   "cell_type": "code",
   "execution_count": null,
   "metadata": {
    "ExecuteTime": {
     "end_time": "2018-09-25T07:22:50.891576Z",
     "start_time": "2018-09-25T07:22:50.818604Z"
    }
   },
   "outputs": [],
   "source": [
    "import pandas as pd\n",
    "data = pd.read_csv('../wrongpics.csv', header=None)\n",
    "show_imngs(data[1])"
   ]
  },
  {
   "cell_type": "code",
   "execution_count": null,
   "metadata": {},
   "outputs": [],
   "source": []
  }
 ],
 "metadata": {
  "kernelspec": {
   "display_name": "Python 3",
   "language": "python",
   "name": "python3"
  },
  "language_info": {
   "codemirror_mode": {
    "name": "ipython",
    "version": 3
   },
   "file_extension": ".py",
   "mimetype": "text/x-python",
   "name": "python",
   "nbconvert_exporter": "python",
   "pygments_lexer": "ipython3",
   "version": "3.5.2"
  },
  "toc": {
   "base_numbering": 1,
   "nav_menu": {},
   "number_sections": true,
   "sideBar": true,
   "skip_h1_title": false,
   "title_cell": "Table of Contents",
   "title_sidebar": "Contents",
   "toc_cell": false,
   "toc_position": {},
   "toc_section_display": true,
   "toc_window_display": false
  },
  "varInspector": {
   "cols": {
    "lenName": 16,
    "lenType": 16,
    "lenVar": 40
   },
   "kernels_config": {
    "python": {
     "delete_cmd_postfix": "",
     "delete_cmd_prefix": "del ",
     "library": "var_list.py",
     "varRefreshCmd": "print(var_dic_list())"
    },
    "r": {
     "delete_cmd_postfix": ") ",
     "delete_cmd_prefix": "rm(",
     "library": "var_list.r",
     "varRefreshCmd": "cat(var_dic_list()) "
    }
   },
   "types_to_exclude": [
    "module",
    "function",
    "builtin_function_or_method",
    "instance",
    "_Feature"
   ],
   "window_display": false
  }
 },
 "nbformat": 4,
 "nbformat_minor": 2
}
